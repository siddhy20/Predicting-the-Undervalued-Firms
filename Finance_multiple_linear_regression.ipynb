{
  "nbformat": 4,
  "nbformat_minor": 0,
  "metadata": {
    "colab": {
      "name": "Finance_multiple_linear_regression.ipynb",
      "provenance": []
    },
    "kernelspec": {
      "name": "python3",
      "display_name": "Python 3"
    }
  },
  "cells": [
    {
      "cell_type": "markdown",
      "metadata": {
        "id": "CazISR8X_HUG"
      },
      "source": [
        "# Multiple Linear Regression"
      ]
    },
    {
      "cell_type": "markdown",
      "metadata": {
        "id": "pOyqYHTk_Q57"
      },
      "source": [
        "## Importing the libraries"
      ]
    },
    {
      "cell_type": "code",
      "source": [
        "import numpy as np\n",
        "import matplotlib.pyplot as plt\n",
        "import pandas as pd"
      ],
      "metadata": {
        "id": "rLV9PJ4MB0CV"
      },
      "execution_count": null,
      "outputs": []
    },
    {
      "cell_type": "markdown",
      "metadata": {
        "id": "vgC61-ah_WIz"
      },
      "source": [
        "## Importing the dataset"
      ]
    },
    {
      "cell_type": "code",
      "source": [
        "dataset1 = pd.read_csv('FV_FACTORS.csv')\n",
        "dataset2 = pd.read_csv('MV_VALUES.csv')\n"
      ],
      "metadata": {
        "id": "4vljwuASB114"
      },
      "execution_count": null,
      "outputs": []
    },
    {
      "cell_type": "code",
      "source": [
        "from sklearn.model_selection import train_test_split\n",
        "from sklearn.linear_model import LinearRegression\n",
        "from sklearn.datasets import load_iris \n",
        "df4 = pd.DataFrame()\n",
        "for i in range(1,266):\n",
        "    X = dataset1.iloc[:,[i,i+1,i+2,i+3,i+4,i+5,i+6,i+7,i+8,i+9,i+10,i+11,i+12,i+13,i+14,i+15]]\n",
        "    df=dataset2.groupby(np.arange(len(dataset2))//3).mean()\n",
        "    y=df.iloc[:,i-1]\n",
        "    X_train, X_test, y_train, y_test = train_test_split(X, y, test_size = 0.2, random_state = 0)\n",
        "    regressor=LinearRegression()\n",
        "    regressor.fit(X_train,y_train)\n",
        "    y_pred=regressor.predict(X)\n",
        "    #data=y_pred.reshape(len(y_pred),1)\n",
        "    #df1=pd.DataFrame(y_pred,columns=['FV'])\n",
        "    #df1 \n",
        "    np.set_printoptions(precision=2)\n",
        "    #print(y_pred)\n",
        "    #df3 = pd.DataFrame(y_pred)\n",
        "    df4[i]=y_pred\n",
        "  \n",
        "    #df4.append(df3, ignore_index=False)\n",
        "    #df1.append(df2, ignore_index = True)\n",
        "    #print(df4)\n",
        "    #print(y_pred.reshape(len(y_pred),1))#,y_test.reshape(len(y_test),1),1)\n",
        "    #print(i)\n",
        "\n",
        "print(df4)"
      ],
      "metadata": {
        "id": "cm5qtmODyqUR"
      },
      "execution_count": null,
      "outputs": []
    },
    {
      "cell_type": "code",
      "source": [
        "file_name = 'FV_VALUES.xlsx'\n",
        "  \n",
        "# saving the excel\n",
        "df4.to_excel(file_name)\n",
        "print('DataFrame is written to Excel File successfully.')"
      ],
      "metadata": {
        "colab": {
          "base_uri": "https://localhost:8080/"
        },
        "id": "TCsk50GK0j9p",
        "outputId": "82c07338-74e5-4da4-e4bb-462a67e4518a"
      },
      "execution_count": null,
      "outputs": [
        {
          "output_type": "stream",
          "name": "stdout",
          "text": [
            "DataFrame is written to Excel File successfully.\n"
          ]
        }
      ]
    }
  ]
}